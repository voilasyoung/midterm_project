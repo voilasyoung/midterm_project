{
 "cells": [
  {
   "cell_type": "markdown",
   "id": "35c3ea9a",
   "metadata": {},
   "source": [
    "# Kaggle Project: Salary prediction"
   ]
  },
  {
   "cell_type": "markdown",
   "id": "3488c739",
   "metadata": {},
   "source": [
    "## Describe my Dataset\n",
    "\n",
    "### URL : https://www.kaggle.com/datasets/rkiattisak/salaly-prediction-for-beginer\n",
    "\n",
    "### Task: \n",
    "        1. 필요한 library를 import\n",
    "        2. 데이터셋 생성 및 분할\n",
    "        3. 모델 정의: DecisionTreeRegression & Neural Network\n",
    "        4. 각 모델 학습 및 검증\n",
    "        5. Test data를 통한 최종 성능 평가\n",
    "        \n",
    "\n",
    "### Datasets: 373개의 데이터를 train: validation: test = 6:2:2의 비율로 분할\n",
    "  * Train dataset: 238개(60%)\n",
    "  * Validation dataset: 60개(20%)\n",
    "  * Test dataset: 75개(20%)\n",
    "\n",
    "### Features(x): Age, Education Level, Job Title, Years of Experience\n",
    "\n",
    "### Target(y): Salary"
   ]
  },
  {
   "cell_type": "markdown",
   "id": "89e90c34",
   "metadata": {},
   "source": [
    "## Import Library"
   ]
  },
  {
   "cell_type": "code",
   "execution_count": 158,
   "id": "2f9e1620",
   "metadata": {},
   "outputs": [],
   "source": [
    "import pandas as pd\n",
    "import numpy as np\n",
    "import torch\n",
    "import torch.nn as nn\n",
    "import torch.optim as optim\n",
    "from torch.utils.data import DataLoader, TensorDataset\n",
    "from sklearn.model_selection import train_test_split\n",
    "from sklearn.model_selection import GridSearchCV\n",
    "from sklearn.preprocessing import LabelEncoder\n",
    "from sklearn.metrics import accuracy_score\n",
    "from sklearn.tree import DecisionTreeRegressor\n",
    "from sklearn.metrics import r2_score"
   ]
  },
  {
   "cell_type": "markdown",
   "id": "1ec22429",
   "metadata": {},
   "source": [
    "## Build Desicision Tree Regression Model"
   ]
  },
  {
   "cell_type": "markdown",
   "id": "f247844f",
   "metadata": {},
   "source": [
    "#### Data preprocessing"
   ]
  },
  {
   "cell_type": "code",
   "execution_count": 159,
   "id": "fa1f3dae",
   "metadata": {},
   "outputs": [],
   "source": [
    "# 데이터 불러오기\n",
    "salary_data = pd.read_csv('Salary Data.csv')"
   ]
  },
  {
   "cell_type": "code",
   "execution_count": 160,
   "id": "eb713eaf",
   "metadata": {},
   "outputs": [
    {
     "name": "stdout",
     "output_type": "stream",
     "text": [
      "<class 'pandas.core.frame.DataFrame'>\n",
      "RangeIndex: 373 entries, 0 to 372\n",
      "Data columns (total 6 columns):\n",
      " #   Column               Non-Null Count  Dtype  \n",
      "---  ------               --------------  -----  \n",
      " 0   Age                  373 non-null    int64  \n",
      " 1   Gender               373 non-null    object \n",
      " 2   Education Level      373 non-null    object \n",
      " 3   Job Title            373 non-null    object \n",
      " 4   Years of Experience  373 non-null    float64\n",
      " 5   Salary               373 non-null    int64  \n",
      "dtypes: float64(1), int64(2), object(3)\n",
      "memory usage: 17.6+ KB\n"
     ]
    }
   ],
   "source": [
    "salary_data.info()"
   ]
  },
  {
   "cell_type": "code",
   "execution_count": 161,
   "id": "f381d590",
   "metadata": {},
   "outputs": [
    {
     "data": {
      "text/html": [
       "<div>\n",
       "<style scoped>\n",
       "    .dataframe tbody tr th:only-of-type {\n",
       "        vertical-align: middle;\n",
       "    }\n",
       "\n",
       "    .dataframe tbody tr th {\n",
       "        vertical-align: top;\n",
       "    }\n",
       "\n",
       "    .dataframe thead th {\n",
       "        text-align: right;\n",
       "    }\n",
       "</style>\n",
       "<table border=\"1\" class=\"dataframe\">\n",
       "  <thead>\n",
       "    <tr style=\"text-align: right;\">\n",
       "      <th></th>\n",
       "      <th>Age</th>\n",
       "      <th>Gender</th>\n",
       "      <th>Education Level</th>\n",
       "      <th>Job Title</th>\n",
       "      <th>Years of Experience</th>\n",
       "      <th>Salary</th>\n",
       "    </tr>\n",
       "  </thead>\n",
       "  <tbody>\n",
       "    <tr>\n",
       "      <th>0</th>\n",
       "      <td>32</td>\n",
       "      <td>Male</td>\n",
       "      <td>Bachelor's</td>\n",
       "      <td>Software Engineer</td>\n",
       "      <td>5.0</td>\n",
       "      <td>90000</td>\n",
       "    </tr>\n",
       "    <tr>\n",
       "      <th>1</th>\n",
       "      <td>28</td>\n",
       "      <td>Female</td>\n",
       "      <td>Master's</td>\n",
       "      <td>Data Analyst</td>\n",
       "      <td>3.0</td>\n",
       "      <td>65000</td>\n",
       "    </tr>\n",
       "    <tr>\n",
       "      <th>2</th>\n",
       "      <td>45</td>\n",
       "      <td>Male</td>\n",
       "      <td>PhD</td>\n",
       "      <td>Senior Manager</td>\n",
       "      <td>15.0</td>\n",
       "      <td>150000</td>\n",
       "    </tr>\n",
       "    <tr>\n",
       "      <th>3</th>\n",
       "      <td>36</td>\n",
       "      <td>Female</td>\n",
       "      <td>Bachelor's</td>\n",
       "      <td>Sales Associate</td>\n",
       "      <td>7.0</td>\n",
       "      <td>60000</td>\n",
       "    </tr>\n",
       "    <tr>\n",
       "      <th>4</th>\n",
       "      <td>52</td>\n",
       "      <td>Male</td>\n",
       "      <td>Master's</td>\n",
       "      <td>Director</td>\n",
       "      <td>20.0</td>\n",
       "      <td>200000</td>\n",
       "    </tr>\n",
       "  </tbody>\n",
       "</table>\n",
       "</div>"
      ],
      "text/plain": [
       "   Age  Gender Education Level          Job Title  Years of Experience  Salary\n",
       "0   32    Male      Bachelor's  Software Engineer                  5.0   90000\n",
       "1   28  Female        Master's       Data Analyst                  3.0   65000\n",
       "2   45    Male             PhD     Senior Manager                 15.0  150000\n",
       "3   36  Female      Bachelor's    Sales Associate                  7.0   60000\n",
       "4   52    Male        Master's           Director                 20.0  200000"
      ]
     },
     "execution_count": 161,
     "metadata": {},
     "output_type": "execute_result"
    }
   ],
   "source": [
    "salary_data.head()"
   ]
  },
  {
   "cell_type": "code",
   "execution_count": 162,
   "id": "7f7140ae",
   "metadata": {},
   "outputs": [
    {
     "data": {
      "text/plain": [
       "Age                    0\n",
       "Gender                 0\n",
       "Education Level        0\n",
       "Job Title              0\n",
       "Years of Experience    0\n",
       "Salary                 0\n",
       "dtype: int64"
      ]
     },
     "execution_count": 162,
     "metadata": {},
     "output_type": "execute_result"
    }
   ],
   "source": [
    "# 데이터 결측치 확인\n",
    "salary_data.isnull().sum()"
   ]
  },
  {
   "cell_type": "code",
   "execution_count": 163,
   "id": "35373da6",
   "metadata": {},
   "outputs": [
    {
     "data": {
      "text/plain": [
       "(373, 6)"
      ]
     },
     "execution_count": 163,
     "metadata": {},
     "output_type": "execute_result"
    }
   ],
   "source": [
    "salary_data.shape"
   ]
  },
  {
   "cell_type": "code",
   "execution_count": 164,
   "id": "2f936f0f",
   "metadata": {},
   "outputs": [],
   "source": [
    "# Gender, Education Level, Job Title의 같은 항목들을 숫자로 변환\n",
    "\n",
    "salary_data['Gender'] = salary_data['Gender'].replace({'Male':1, 'Female':0})\n",
    "\n",
    "edu_label_encoder = LabelEncoder()\n",
    "salary_data['Education Level'] = edu_label_encoder.fit_transform(salary_data['Education Level'])\n",
    "\n",
    "job_title_encoder = LabelEncoder()\n",
    "salary_data['Job Title'] = job_title_encoder.fit_transform(salary_data['Job Title'])"
   ]
  },
  {
   "cell_type": "code",
   "execution_count": 165,
   "id": "19db42ab",
   "metadata": {},
   "outputs": [
    {
     "data": {
      "text/html": [
       "<div>\n",
       "<style scoped>\n",
       "    .dataframe tbody tr th:only-of-type {\n",
       "        vertical-align: middle;\n",
       "    }\n",
       "\n",
       "    .dataframe tbody tr th {\n",
       "        vertical-align: top;\n",
       "    }\n",
       "\n",
       "    .dataframe thead th {\n",
       "        text-align: right;\n",
       "    }\n",
       "</style>\n",
       "<table border=\"1\" class=\"dataframe\">\n",
       "  <thead>\n",
       "    <tr style=\"text-align: right;\">\n",
       "      <th></th>\n",
       "      <th>Age</th>\n",
       "      <th>Gender</th>\n",
       "      <th>Education Level</th>\n",
       "      <th>Job Title</th>\n",
       "      <th>Years of Experience</th>\n",
       "      <th>Salary</th>\n",
       "    </tr>\n",
       "  </thead>\n",
       "  <tbody>\n",
       "    <tr>\n",
       "      <th>0</th>\n",
       "      <td>32</td>\n",
       "      <td>1</td>\n",
       "      <td>0</td>\n",
       "      <td>159</td>\n",
       "      <td>5.0</td>\n",
       "      <td>90000</td>\n",
       "    </tr>\n",
       "    <tr>\n",
       "      <th>1</th>\n",
       "      <td>28</td>\n",
       "      <td>0</td>\n",
       "      <td>1</td>\n",
       "      <td>17</td>\n",
       "      <td>3.0</td>\n",
       "      <td>65000</td>\n",
       "    </tr>\n",
       "    <tr>\n",
       "      <th>2</th>\n",
       "      <td>45</td>\n",
       "      <td>1</td>\n",
       "      <td>2</td>\n",
       "      <td>130</td>\n",
       "      <td>15.0</td>\n",
       "      <td>150000</td>\n",
       "    </tr>\n",
       "    <tr>\n",
       "      <th>3</th>\n",
       "      <td>36</td>\n",
       "      <td>0</td>\n",
       "      <td>0</td>\n",
       "      <td>101</td>\n",
       "      <td>7.0</td>\n",
       "      <td>60000</td>\n",
       "    </tr>\n",
       "    <tr>\n",
       "      <th>4</th>\n",
       "      <td>52</td>\n",
       "      <td>1</td>\n",
       "      <td>1</td>\n",
       "      <td>22</td>\n",
       "      <td>20.0</td>\n",
       "      <td>200000</td>\n",
       "    </tr>\n",
       "    <tr>\n",
       "      <th>...</th>\n",
       "      <td>...</td>\n",
       "      <td>...</td>\n",
       "      <td>...</td>\n",
       "      <td>...</td>\n",
       "      <td>...</td>\n",
       "      <td>...</td>\n",
       "    </tr>\n",
       "    <tr>\n",
       "      <th>368</th>\n",
       "      <td>35</td>\n",
       "      <td>0</td>\n",
       "      <td>0</td>\n",
       "      <td>131</td>\n",
       "      <td>8.0</td>\n",
       "      <td>85000</td>\n",
       "    </tr>\n",
       "    <tr>\n",
       "      <th>369</th>\n",
       "      <td>43</td>\n",
       "      <td>1</td>\n",
       "      <td>1</td>\n",
       "      <td>30</td>\n",
       "      <td>19.0</td>\n",
       "      <td>170000</td>\n",
       "    </tr>\n",
       "    <tr>\n",
       "      <th>370</th>\n",
       "      <td>29</td>\n",
       "      <td>0</td>\n",
       "      <td>0</td>\n",
       "      <td>70</td>\n",
       "      <td>2.0</td>\n",
       "      <td>40000</td>\n",
       "    </tr>\n",
       "    <tr>\n",
       "      <th>371</th>\n",
       "      <td>34</td>\n",
       "      <td>1</td>\n",
       "      <td>0</td>\n",
       "      <td>137</td>\n",
       "      <td>7.0</td>\n",
       "      <td>90000</td>\n",
       "    </tr>\n",
       "    <tr>\n",
       "      <th>372</th>\n",
       "      <td>44</td>\n",
       "      <td>0</td>\n",
       "      <td>2</td>\n",
       "      <td>110</td>\n",
       "      <td>15.0</td>\n",
       "      <td>150000</td>\n",
       "    </tr>\n",
       "  </tbody>\n",
       "</table>\n",
       "<p>373 rows × 6 columns</p>\n",
       "</div>"
      ],
      "text/plain": [
       "     Age  Gender  Education Level  Job Title  Years of Experience  Salary\n",
       "0     32       1                0        159                  5.0   90000\n",
       "1     28       0                1         17                  3.0   65000\n",
       "2     45       1                2        130                 15.0  150000\n",
       "3     36       0                0        101                  7.0   60000\n",
       "4     52       1                1         22                 20.0  200000\n",
       "..   ...     ...              ...        ...                  ...     ...\n",
       "368   35       0                0        131                  8.0   85000\n",
       "369   43       1                1         30                 19.0  170000\n",
       "370   29       0                0         70                  2.0   40000\n",
       "371   34       1                0        137                  7.0   90000\n",
       "372   44       0                2        110                 15.0  150000\n",
       "\n",
       "[373 rows x 6 columns]"
      ]
     },
     "execution_count": 165,
     "metadata": {},
     "output_type": "execute_result"
    }
   ],
   "source": [
    "# 데이터 확인\n",
    "salary_data"
   ]
  },
  {
   "cell_type": "markdown",
   "id": "37a66594",
   "metadata": {},
   "source": [
    "#### Model Construction"
   ]
  },
  {
   "cell_type": "code",
   "execution_count": 166,
   "id": "9a43926e",
   "metadata": {},
   "outputs": [],
   "source": [
    "# test set, validation set, train set 설정 \n",
    "\n",
    "Y = salary_data['Salary']\n",
    "X = salary_data.drop(['Salary'], axis=1)\n",
    "x_train, x_test, y_train, y_test = train_test_split(X, Y, test_size=0.2, random_state=0)\n",
    "x_train, x_val, y_train, y_val = train_test_split(x_train, y_train, test_size = 0.25, random_state=0)"
   ]
  },
  {
   "cell_type": "code",
   "execution_count": 167,
   "id": "946d2030",
   "metadata": {},
   "outputs": [
    {
     "name": "stdout",
     "output_type": "stream",
     "text": [
      "(223, 5)\n",
      "(75, 5)\n",
      "(223,)\n",
      "(75,)\n",
      "(75, 5)\n",
      "(75,)\n"
     ]
    }
   ],
   "source": [
    "print(x_train.shape)\n",
    "print(x_test.shape)\n",
    "print(y_train.shape)\n",
    "print(y_test.shape)\n",
    "print(x_val.shape)\n",
    "print(y_val.shape)"
   ]
  },
  {
   "cell_type": "markdown",
   "id": "4b6a6ea1",
   "metadata": {},
   "source": [
    "#### Train Model & Select Model"
   ]
  },
  {
   "cell_type": "code",
   "execution_count": 168,
   "id": "715ddf9b",
   "metadata": {},
   "outputs": [
    {
     "data": {
      "text/plain": [
       "DecisionTreeRegressor(max_depth=5)"
      ]
     },
     "execution_count": 168,
     "metadata": {},
     "output_type": "execute_result"
    }
   ],
   "source": [
    "model = DecisionTreeRegressor(max_depth= 5, max_features= None, min_samples_leaf= 1)\n",
    "model.fit(x_train, y_train)"
   ]
  },
  {
   "cell_type": "code",
   "execution_count": 169,
   "id": "a666ca3a",
   "metadata": {},
   "outputs": [
    {
     "name": "stdout",
     "output_type": "stream",
     "text": [
      "최적의 Hyperparameter: {'max_depth': 5, 'max_features': 'log2', 'min_samples_leaf': 4}\n"
     ]
    }
   ],
   "source": [
    "# grid search를 통한 hyperparameter 최적화\n",
    "\n",
    "param_grid = {\n",
    "    'max_depth': [3, 5, 7, 9, 100],\n",
    "    'min_samples_leaf': [1, 2, 4],\n",
    "    'max_features': [None, 'sqrt', 'log2']\n",
    "}\n",
    "\n",
    "# Grid Search 수행\n",
    "grid_model = GridSearchCV(model, param_grid, cv=5)\n",
    "grid_model.fit(x_train, y_train)\n",
    "\n",
    "# 최적의 Hyperparameter 값 출력\n",
    "print(\"최적의 Hyperparameter:\", grid_model.best_params_)"
   ]
  },
  {
   "cell_type": "markdown",
   "id": "f21d4b3c",
   "metadata": {},
   "source": [
    "## Performance"
   ]
  },
  {
   "cell_type": "code",
   "execution_count": 170,
   "id": "62061d40",
   "metadata": {},
   "outputs": [
    {
     "name": "stdout",
     "output_type": "stream",
     "text": [
      "Train set R-squared: 0.9630213129532259\n",
      "Validation set R-squared: 0.8125884097282398\n",
      "Test set R-squared: 0.9061828247680328\n"
     ]
    }
   ],
   "source": [
    "# Train set에서의 예측값 계산\n",
    "y_train_pred = model.predict(x_train)\n",
    "\n",
    "# Train set에서의 R-squared 값 계산\n",
    "r2_train = r2_score(y_train, y_train_pred)\n",
    "\n",
    "# Validation set에서의 예측값 계산\n",
    "y_val_pred = model.predict(x_val)\n",
    "\n",
    "# Validation set에서의 R-squared 값 계산\n",
    "r2_val = r2_score(y_val, y_val_pred)\n",
    "\n",
    "# Test set에서의 예측값 계산\n",
    "y_test_pred = model.predict(x_test)\n",
    "\n",
    "# Test set에서의 R-squared 값 계산\n",
    "r2_test = r2_score(y_test, y_test_pred)\n",
    "\n",
    "print(\"Train set R-squared:\", r2_train)\n",
    "print(\"Validation set R-squared:\", r2_val)\n",
    "print(\"Test set R-squared:\", r2_test)"
   ]
  },
  {
   "cell_type": "markdown",
   "id": "e86bbb56",
   "metadata": {},
   "source": [
    "## Build Neural Network Model"
   ]
  },
  {
   "cell_type": "markdown",
   "id": "a312aa0b",
   "metadata": {},
   "source": [
    "#### Data preprocessing"
   ]
  },
  {
   "cell_type": "code",
   "execution_count": 171,
   "id": "db25200c",
   "metadata": {},
   "outputs": [],
   "source": [
    "df = pd.read_csv('Salary Data.csv')\n",
    "\n",
    "df['Gender'] = df['Gender'].replace({'Male':1, 'Female':0})\n",
    "\n",
    "edu_label_encoder = LabelEncoder()\n",
    "df['Education Level'] = edu_label_encoder.fit_transform(df['Education Level'])\n",
    "\n",
    "job_title_encoder = LabelEncoder()\n",
    "df['Job Title'] = job_title_encoder.fit_transform(df['Job Title'])\n",
    "\n",
    "X = df.iloc[:, :-1].values\n",
    "y = df.iloc[:, -1].values"
   ]
  },
  {
   "cell_type": "code",
   "execution_count": 172,
   "id": "4fb0806e",
   "metadata": {},
   "outputs": [
    {
     "data": {
      "text/html": [
       "<div>\n",
       "<style scoped>\n",
       "    .dataframe tbody tr th:only-of-type {\n",
       "        vertical-align: middle;\n",
       "    }\n",
       "\n",
       "    .dataframe tbody tr th {\n",
       "        vertical-align: top;\n",
       "    }\n",
       "\n",
       "    .dataframe thead th {\n",
       "        text-align: right;\n",
       "    }\n",
       "</style>\n",
       "<table border=\"1\" class=\"dataframe\">\n",
       "  <thead>\n",
       "    <tr style=\"text-align: right;\">\n",
       "      <th></th>\n",
       "      <th>Age</th>\n",
       "      <th>Gender</th>\n",
       "      <th>Education Level</th>\n",
       "      <th>Job Title</th>\n",
       "      <th>Years of Experience</th>\n",
       "      <th>Salary</th>\n",
       "    </tr>\n",
       "  </thead>\n",
       "  <tbody>\n",
       "    <tr>\n",
       "      <th>0</th>\n",
       "      <td>32</td>\n",
       "      <td>1</td>\n",
       "      <td>0</td>\n",
       "      <td>159</td>\n",
       "      <td>5.0</td>\n",
       "      <td>90000</td>\n",
       "    </tr>\n",
       "    <tr>\n",
       "      <th>1</th>\n",
       "      <td>28</td>\n",
       "      <td>0</td>\n",
       "      <td>1</td>\n",
       "      <td>17</td>\n",
       "      <td>3.0</td>\n",
       "      <td>65000</td>\n",
       "    </tr>\n",
       "    <tr>\n",
       "      <th>2</th>\n",
       "      <td>45</td>\n",
       "      <td>1</td>\n",
       "      <td>2</td>\n",
       "      <td>130</td>\n",
       "      <td>15.0</td>\n",
       "      <td>150000</td>\n",
       "    </tr>\n",
       "    <tr>\n",
       "      <th>3</th>\n",
       "      <td>36</td>\n",
       "      <td>0</td>\n",
       "      <td>0</td>\n",
       "      <td>101</td>\n",
       "      <td>7.0</td>\n",
       "      <td>60000</td>\n",
       "    </tr>\n",
       "    <tr>\n",
       "      <th>4</th>\n",
       "      <td>52</td>\n",
       "      <td>1</td>\n",
       "      <td>1</td>\n",
       "      <td>22</td>\n",
       "      <td>20.0</td>\n",
       "      <td>200000</td>\n",
       "    </tr>\n",
       "    <tr>\n",
       "      <th>...</th>\n",
       "      <td>...</td>\n",
       "      <td>...</td>\n",
       "      <td>...</td>\n",
       "      <td>...</td>\n",
       "      <td>...</td>\n",
       "      <td>...</td>\n",
       "    </tr>\n",
       "    <tr>\n",
       "      <th>368</th>\n",
       "      <td>35</td>\n",
       "      <td>0</td>\n",
       "      <td>0</td>\n",
       "      <td>131</td>\n",
       "      <td>8.0</td>\n",
       "      <td>85000</td>\n",
       "    </tr>\n",
       "    <tr>\n",
       "      <th>369</th>\n",
       "      <td>43</td>\n",
       "      <td>1</td>\n",
       "      <td>1</td>\n",
       "      <td>30</td>\n",
       "      <td>19.0</td>\n",
       "      <td>170000</td>\n",
       "    </tr>\n",
       "    <tr>\n",
       "      <th>370</th>\n",
       "      <td>29</td>\n",
       "      <td>0</td>\n",
       "      <td>0</td>\n",
       "      <td>70</td>\n",
       "      <td>2.0</td>\n",
       "      <td>40000</td>\n",
       "    </tr>\n",
       "    <tr>\n",
       "      <th>371</th>\n",
       "      <td>34</td>\n",
       "      <td>1</td>\n",
       "      <td>0</td>\n",
       "      <td>137</td>\n",
       "      <td>7.0</td>\n",
       "      <td>90000</td>\n",
       "    </tr>\n",
       "    <tr>\n",
       "      <th>372</th>\n",
       "      <td>44</td>\n",
       "      <td>0</td>\n",
       "      <td>2</td>\n",
       "      <td>110</td>\n",
       "      <td>15.0</td>\n",
       "      <td>150000</td>\n",
       "    </tr>\n",
       "  </tbody>\n",
       "</table>\n",
       "<p>373 rows × 6 columns</p>\n",
       "</div>"
      ],
      "text/plain": [
       "     Age  Gender  Education Level  Job Title  Years of Experience  Salary\n",
       "0     32       1                0        159                  5.0   90000\n",
       "1     28       0                1         17                  3.0   65000\n",
       "2     45       1                2        130                 15.0  150000\n",
       "3     36       0                0        101                  7.0   60000\n",
       "4     52       1                1         22                 20.0  200000\n",
       "..   ...     ...              ...        ...                  ...     ...\n",
       "368   35       0                0        131                  8.0   85000\n",
       "369   43       1                1         30                 19.0  170000\n",
       "370   29       0                0         70                  2.0   40000\n",
       "371   34       1                0        137                  7.0   90000\n",
       "372   44       0                2        110                 15.0  150000\n",
       "\n",
       "[373 rows x 6 columns]"
      ]
     },
     "execution_count": 172,
     "metadata": {},
     "output_type": "execute_result"
    }
   ],
   "source": [
    "df"
   ]
  },
  {
   "cell_type": "markdown",
   "id": "c44647b6",
   "metadata": {},
   "source": [
    "#### model construction"
   ]
  },
  {
   "cell_type": "code",
   "execution_count": 173,
   "id": "e79abf0c",
   "metadata": {},
   "outputs": [],
   "source": [
    "train_data, test_data = train_test_split(df, test_size=0.2, random_state=42)\n",
    "train_data, val_data = train_test_split(train_data, test_size=0.25, random_state=42)\n",
    "\n",
    "x_train = torch.Tensor(train_data.drop(['Salary'], axis=1).values)\n",
    "y_train = torch.Tensor(train_data['Salary'].values)\n",
    "\n",
    "x_val = torch.Tensor(val_data.drop(['Salary'], axis=1).values)\n",
    "y_val = torch.Tensor(val_data['Salary'].values)\n",
    "\n",
    "x_test = torch.Tensor(test_data.drop(['Salary'], axis=1).values)\n",
    "y_test = torch.Tensor(test_data['Salary'].values)"
   ]
  },
  {
   "cell_type": "code",
   "execution_count": 174,
   "id": "3ef576a1",
   "metadata": {},
   "outputs": [
    {
     "name": "stdout",
     "output_type": "stream",
     "text": [
      "torch.Size([223, 5])\n",
      "torch.Size([223])\n",
      "torch.Size([75, 5])\n"
     ]
    }
   ],
   "source": [
    "print(x_train.shape)\n",
    "print(y_train.shape)\n",
    "print(x_val.shape)"
   ]
  },
  {
   "cell_type": "markdown",
   "id": "f1aaa1a7",
   "metadata": {},
   "source": [
    "#### Train Model & Select Model"
   ]
  },
  {
   "cell_type": "code",
   "execution_count": 175,
   "id": "f77e2ae6",
   "metadata": {},
   "outputs": [
    {
     "name": "stdout",
     "output_type": "stream",
     "text": [
      "Epoch 0, Train Loss: 12690216960.0, Val Loss: 11223384064.0\n",
      "Epoch 100, Train Loss: 11066668032.0, Val Loss: 9827176448.0\n",
      "Epoch 200, Train Loss: 2564344832.0, Val Loss: 2853864192.0\n",
      "Epoch 300, Train Loss: 1861012224.0, Val Loss: 2258898688.0\n",
      "Epoch 400, Train Loss: 1589024000.0, Val Loss: 1925349632.0\n",
      "Epoch 500, Train Loss: 1299972992.0, Val Loss: 1568980352.0\n",
      "Epoch 600, Train Loss: 1005891520.0, Val Loss: 1203628928.0\n",
      "Epoch 700, Train Loss: 738773248.0, Val Loss: 867736320.0\n",
      "Epoch 800, Train Loss: 546372160.0, Val Loss: 620410944.0\n",
      "Epoch 900, Train Loss: 448187776.0, Val Loss: 489423680.0\n"
     ]
    }
   ],
   "source": [
    "class Net(nn.Module):\n",
    "    def __init__(self):\n",
    "        super(Net, self).__init__()\n",
    "        self.fc1 = nn.Linear(5, 10)\n",
    "        self.fc2 = nn.Linear(10, 5)\n",
    "        self.fc3 = nn.Linear(5, 1)\n",
    "\n",
    "    def forward(self, x):\n",
    "        x = torch.relu(self.fc1(x))\n",
    "        x = torch.relu(self.fc2(x))\n",
    "        x = self.fc3(x)\n",
    "        return x\n",
    "\n",
    "model = Net()\n",
    "\n",
    "# 모델 학습\n",
    "optimizer = torch.optim.Adam(model.parameters(), lr=0.01)\n",
    "criterion = nn.MSELoss()\n",
    "\n",
    "train_losses = []\n",
    "val_losses = []\n",
    "\n",
    "num_epochs = 1000\n",
    "\n",
    "for epoch in range(num_epochs):\n",
    "    optimizer.zero_grad()\n",
    "    output = model(x_train)\n",
    "    train_loss = criterion(output, y_train.unsqueeze(1))\n",
    "    train_losses.append(train_loss.item())\n",
    "    train_loss.backward()\n",
    "    optimizer.step()\n",
    "\n",
    "    with torch.no_grad():\n",
    "        val_output = model(x_val)\n",
    "        val_loss = criterion(val_output, y_val.unsqueeze(1))\n",
    "        val_losses.append(val_loss.item())\n",
    "\n",
    "    if epoch % 100 == 0:\n",
    "        print(f\"Epoch {epoch}, Train Loss: {train_loss.item()}, Val Loss: {val_loss.item()}\")"
   ]
  },
  {
   "cell_type": "markdown",
   "id": "5238f56f",
   "metadata": {},
   "source": [
    "## Performance"
   ]
  },
  {
   "cell_type": "code",
   "execution_count": 176,
   "id": "bb4d9ca0",
   "metadata": {},
   "outputs": [
    {
     "name": "stdout",
     "output_type": "stream",
     "text": [
      "----------------------------------------------------------\n",
      "Train MSE: 408524224.0, Train R^2: 0.8202534378581079\n",
      "Validation MSE: 435900032.0, Validation R^2: 0.8134891012092795\n",
      "Test MSE: 372709216.0, Test R^2: 0.844547898493238\n"
     ]
    }
   ],
   "source": [
    "# 모델 평가\n",
    "with torch.no_grad():\n",
    "    train_output = model(x_train)\n",
    "    train_mse = nn.functional.mse_loss(train_output, y_train.unsqueeze(1)).item()\n",
    "    train_r2 = r2_score(y_train, train_output.numpy().flatten())\n",
    "\n",
    "    val_output = model(x_val)\n",
    "    val_mse = nn.functional.mse_loss(val_output, y_val.unsqueeze(1)).item()\n",
    "    val_r2 = r2_score(y_val, val_output.numpy().flatten())\n",
    "\n",
    "    test_output = model(x_test)\n",
    "    test_mse = nn.functional.mse_loss(test_output, y_test.unsqueeze(1)).item()\n",
    "    test_r2 = r2_score(y_test, test_output.numpy().flatten())\n",
    "\n",
    "print(\"----------------------------------------------------------\")    \n",
    "print(f\"Train MSE: {train_mse}, Train R^2: {train_r2}\")\n",
    "print(f\"Validation MSE: {val_mse}, Validation R^2: {val_r2}\")\n",
    "print(f\"Test MSE: {test_mse}, Test R^2: {test_r2}\")"
   ]
  },
  {
   "cell_type": "markdown",
   "id": "38ea6eb4",
   "metadata": {},
   "source": [
    "##### 두 모델 다 성능은 준수한 것 같지만, neural network model이 좀 더 적합한 것으로 결론내렸다."
   ]
  }
 ],
 "metadata": {
  "kernelspec": {
   "display_name": "Python 3 (ipykernel)",
   "language": "python",
   "name": "python3"
  },
  "language_info": {
   "codemirror_mode": {
    "name": "ipython",
    "version": 3
   },
   "file_extension": ".py",
   "mimetype": "text/x-python",
   "name": "python",
   "nbconvert_exporter": "python",
   "pygments_lexer": "ipython3",
   "version": "3.9.7"
  }
 },
 "nbformat": 4,
 "nbformat_minor": 5
}
